{
 "cells": [
  {
   "cell_type": "markdown",
   "metadata": {},
   "source": [
    "# Práctica 1: Derivadas, gráficas 2D y aproximación de funciones\n",
    "## Objetivos\n",
    "1. Iniciarse en el entorno Jupiter\n",
    "2. Manejar los paquetes de cálculo simbólico sympy\n",
    "3. Derivar funciones de una variable utilizando el método diff() \n",
    "4. Obtener un valor de una función simbólica con el método subs \n",
    "6. Dibujar una función de una variable  \n",
    "7. Calcular y representar la aproximación lineal en un punto\n",
    "8. Calcular y representar el polinomo de Taylor en un punto\n"
   ]
  },
  {
   "cell_type": "markdown",
   "metadata": {},
   "source": [
    "## Tabla de comandos\n",
    "\n",
    "|**NOMBRE**|**DESCRIPCIÓN**|**TIPO**|**SINTAXIS**|**EJEMPLO**|\n",
    "|:---:|:---:|:---:|:---:|:---:|\n",
    "|[Abs](http://docs.sympy.org/latest/modules/polys/internals.html?highlight=abs#sympy.polys.domains.domain.Domain.abs)|Devuelve el valor absoluto de un número|Función|Abs(a)|sp.Abs(-5)|\n",
    "|[cos](http://docs.sympy.org/latest/modules/functions/elementary.html?highlight=cos#sympy.functions.elementary.trigonometric.cos)|Devuelve el coseno de un ángulo|Función|cos(angle)|sp.cos(sp.pi/2)|\n",
    "|[.diff](http://docs.sympy.org/latest/tutorial/calculus.html)|Calcula derivadas|Método|f.diff(x1,x2,...)|cos(x).diff(x)| \n",
    "|[evalf](http://docs.sympy.org/latest/modules/core.html?highlight=evalf#module-sympy.core.evalf)|Devuelve el numérico decimal de una expresión|Función|evalf(n, **options)|sp.evalf(cos(sp.pi/3))|\n",
    "|[exp](http://docs.sympy.org/latest/modules/functions/elementary.html?highlight=exp#sympy.functions.elementary.exponential.exp)|Devuelve la función exponencial de x|exp(x)|sp.exp(3)|\n",
    "|[factorial](http://docs.sympy.org/latest/modules/functions/combinatorial.html?highlight=factorial#sympy.functions.combinatorial.factorials.factorial)|Calcula el factorial de n|Función|factorial(n)|sp.factorial(5)|\n",
    "|[plot](http://docs.sympy.org/latest/modules/plotting.html?highlight=plot#module-sympy.plotting.plot)|Dibuja un gráfico 2D desde Sympy|Función|plot(expr1, expr2, ..., range, **kwargs)|plot(cos(x),sin(x),(x, -1, 1))|\n",
    "|[range](http://docs.sympy.org/latest/modules/sets.html?highlight=range#sympy.sets.fancysets.Range)|Devuelve un rango de números enteros|Función|range(inicio, fin[, salto])|range(1, 10)|\n",
    "|[sin](http://docs.sympy.org/latest/modules/functions/elementary.html?highlight=sin#sympy.functions.elementary.trigonometric.sin)|Devuelve el seno de un ángulo|Función|sin(angle)|sp.sin(sp.pi/2)|\n",
    "|[solve](https://docs.sympy.org/latest/modules/solvers/solvers.html#)|Resuelve la ecuación f que se considera igual a cero, respecto al simbolo o lista de simbolos indicado|Función|solve(f, symbols)|solve(2*x+1, x)|\n",
    "|[subs](http://docs.sympy.org/latest/modules/core.html?highlight=subs#sympy.core.basic.Basic.subs)|Calcula el valor de una función simbólica|Método|subs(*args, **kwargs)|sp.cos(x).subs(x, 0)|\n",
    "|[symbols](http://docs.sympy.org/latest/modules/core.html?highlight=symbols#sympy.core.symbol.symbols)|Calcula una secuencia de símbolos para la variables a utilizar en las funciones sympy|Función|symbols(names, **args)|x, y = sp.symbols('x,y')|"
   ]
  },
  {
   "cell_type": "markdown",
   "metadata": {},
   "source": [
    "### Importación de librerías\n",
    "Cada vez que empezamos una sesión de Jupiter tenemos que importar todos todos los módulos que necesitemos y escribir algunas instrucciones, en nuestra práctica :\n",
    "\n",
    "    sympy: Librería de cálculo simbólico que utilizaremos en este caso para el cálculo de derivadas\n",
    "\n",
    "    init_printing(): Nos permite visualizar las formulas en lenguaje matemático.\n",
    "    \n",
    "Además ejecutaremos todas las celdas que tengamos ya escritas con la opción Run All del menú Cell."
   ]
  },
  {
   "cell_type": "code",
   "execution_count": 2,
   "metadata": {},
   "outputs": [],
   "source": [
    "#Librería de cálculo Simbólico\n",
    "import sympy as sp\n",
    "#Librería de cálculo Numérico\n",
    "import numpy as np\n",
    "#Librería de dibujo \n",
    "import matplotlib.pyplot as plt\n",
    "#Para representar los dibujos en el cuaderno en lugar de una ventana emergente\n",
    "%matplotlib inline\n",
    "# Para que la salida sea tipo Latex\n",
    "sp.init_printing()\n",
    "# Para evitar los mensajes de obsolescencia ('deprecated') de funciones internas a la librería Matplotlib \n",
    "import warnings\n",
    "warnings.filterwarnings(\"ignore\", category=UserWarning)\n",
    "from sympy.solvers import solve"
   ]
  },
  {
   "cell_type": "markdown",
   "metadata": {},
   "source": [
    "# **Introducción a la derivación**"
   ]
  },
  {
   "cell_type": "code",
   "execution_count": 3,
   "metadata": {},
   "outputs": [],
   "source": [
    "# Cómo vamos a trabajar con una variable vamos a definir un único símbolo:\n",
    "x = sp.symbols('x')"
   ]
  },
  {
   "cell_type": "code",
   "execution_count": 3,
   "metadata": {},
   "outputs": [
    {
     "data": {
      "image/png": "[encoded data removed]",
      "text/latex": [
       "$\\displaystyle \\cos{\\left(x \\right)}$"
      ],
      "text/plain": [
       "cos(x)"
      ]
     },
     "execution_count": 3,
     "metadata": {},
     "output_type": "execute_result"
    }
   ],
   "source": [
    "# Primero asignamos la expresión que vamos a derivar a una variable que llamamos f:\n",
    "f = sp.cos(x)\n",
    "f"
   ]
  },
  {
   "cell_type": "code",
   "execution_count": 4,
   "metadata": {},
   "outputs": [
    {
     "data": {
      "image/png": "[encoded data removed]",
      "text/latex": [
       "$\\displaystyle - \\sin{\\left(x \\right)}$"
      ],
      "text/plain": [
       "-sin(x)"
      ]
     },
     "execution_count": 4,
     "metadata": {},
     "output_type": "execute_result"
    }
   ],
   "source": [
    "# Calculamos la primera derivada de f utilizando el método diff:\n",
    "f.diff(x)"
   ]
  },
  {
   "cell_type": "code",
   "execution_count": 5,
   "metadata": {},
   "outputs": [
    {
     "data": {
      "image/png": "[encoded data removed]",
      "text/latex": [
       "$\\displaystyle - \\sin{\\left(x \\right)}$"
      ],
      "text/plain": [
       "-sin(x)"
      ]
     },
     "execution_count": 5,
     "metadata": {},
     "output_type": "execute_result"
    }
   ],
   "source": [
    "# Incluso podriamos utilizar directamente diff sobre la expresión cos(x):\n",
    "sp.cos(x).diff(x)"
   ]
  },
  {
   "cell_type": "code",
   "execution_count": 6,
   "metadata": {},
   "outputs": [
    {
     "data": {
      "image/png": "[encoded data removed]",
      "text/latex": [
       "$\\displaystyle - \\sin{\\left(x \\right)}$"
      ],
      "text/plain": [
       "-sin(x)"
      ]
     },
     "execution_count": 6,
     "metadata": {},
     "output_type": "execute_result"
    }
   ],
   "source": [
    "# Otra alternativa es utilizar la función diff de sympy en lugar del método del objeto función\n",
    "sp.diff(f,x)"
   ]
  },
  {
   "cell_type": "code",
   "execution_count": 7,
   "metadata": {},
   "outputs": [
    {
     "data": {
      "image/png": "[encoded data removed]",
      "text/latex": [
       "$\\displaystyle - \\sin{\\left(x \\right)}$"
      ],
      "text/plain": [
       "-sin(x)"
      ]
     },
     "execution_count": 7,
     "metadata": {},
     "output_type": "execute_result"
    }
   ],
   "source": [
    "# Podemos eliminar el argumento x en la llamada de la función diff() por que f depende de una sola \n",
    "# variable:\n",
    "sp.diff(f)"
   ]
  },
  {
   "cell_type": "markdown",
   "metadata": {},
   "source": [
    "### Calculamos derivadas de orden superior:"
   ]
  },
  {
   "cell_type": "code",
   "execution_count": 8,
   "metadata": {},
   "outputs": [
    {
     "data": {
      "image/png": "[encoded data removed]",
      "text/latex": [
       "$\\displaystyle \\left( - \\cos{\\left(x \\right)}, \\  \\sin{\\left(x \\right)}, \\  \\cos{\\left(x \\right)}\\right)$"
      ],
      "text/plain": [
       "(-cos(x), sin(x), cos(x))"
      ]
     },
     "execution_count": 8,
     "metadata": {},
     "output_type": "execute_result"
    }
   ],
   "source": [
    "# Si empleamos el método diff se añade el orden de las siguientes derivadas así:\n",
    "f.diff(x, 2), f.diff(x, 3), f.diff(x, 4)"
   ]
  },
  {
   "cell_type": "code",
   "execution_count": 9,
   "metadata": {},
   "outputs": [
    {
     "data": {
      "image/png": "[encoded data removed]",
      "text/latex": [
       "$\\displaystyle \\left( - \\cos{\\left(x \\right)}, \\  \\sin{\\left(x \\right)}, \\  \\cos{\\left(x \\right)}\\right)$"
      ],
      "text/plain": [
       "(-cos(x), sin(x), cos(x))"
      ]
     },
     "execution_count": 9,
     "metadata": {},
     "output_type": "execute_result"
    }
   ],
   "source": [
    "# Si empleamos la función diff se añade el orden de las siguientes derivadas análogamente:\n",
    "sp.diff(f, x, 2), sp.diff(f, x, 3), sp.diff(f, x, 4)"
   ]
  },
  {
   "cell_type": "code",
   "execution_count": 10,
   "metadata": {},
   "outputs": [
    {
     "data": {
      "image/png": "[encoded data removed]",
      "text/latex": [
       "$\\displaystyle \\left( - \\cos{\\left(x \\right)}, \\  \\sin{\\left(x \\right)}, \\  \\cos{\\left(x \\right)}\\right)$"
      ],
      "text/plain": [
       "(-cos(x), sin(x), cos(x))"
      ]
     },
     "execution_count": 10,
     "metadata": {},
     "output_type": "execute_result"
    }
   ],
   "source": [
    "# Aunque también nos podriamos aproximar a esta notación común en matemáticas:\n",
    "sp.diff(f, x, x), sp.diff(f, x, x, x), sp.diff(f, x, x, x, x)"
   ]
  },
  {
   "cell_type": "markdown",
   "metadata": {},
   "source": [
    "# Representamos gráficas\n",
    "\n",
    "## Representación de funciones de una variable"
   ]
  },
  {
   "cell_type": "code",
   "execution_count": 4,
   "metadata": {},
   "outputs": [
    {
     "data": {
      "image/png": "[encoded data removed]",
      "text/plain": [
       "<Figure size 432x288 with 1 Axes>"
      ]
     },
     "metadata": {
      "needs_background": "light"
     },
     "output_type": "display_data"
    }
   ],
   "source": [
    "# Cómo dibujamos con plot: \n",
    "# Introduciendo dos argumentos (listas), por ejemplo [1,3,1] y [1,3,4], que contienen respectivamente las coordenadas x e y\n",
    "# de los puntos de la poligonal que queremos representar uniendo los puntos (1,1), (3,3) y (1,4)\n",
    "plt.plot([1,3,1],[1,3,4])\n",
    "plt.show()"
   ]
  },
  {
   "cell_type": "code",
   "execution_count": 12,
   "metadata": {},
   "outputs": [
    {
     "data": {
      "image/png": "[encoded data removed]",
      "text/plain": [
       "<Figure size 432x288 with 1 Axes>"
      ]
     },
     "metadata": {
      "needs_background": "light"
     },
     "output_type": "display_data"
    }
   ],
   "source": [
    "plt.plot([-2,-1,1,3,4],[1,3,0,1,5])\n",
    "plt.show()"
   ]
  },
  {
   "cell_type": "code",
   "execution_count": 5,
   "metadata": {},
   "outputs": [
    {
     "data": {
      "text/plain": [
       "array([-4., -2.,  0.,  2.,  4.])"
      ]
     },
     "execution_count": 5,
     "metadata": {},
     "output_type": "execute_result"
    }
   ],
   "source": [
    "# Dibujamos la parábola y =x**2. Con la función linspace creamos una lista con 5 valores equidistantes desde -4 hasta 4.\n",
    "# Será el primer argumento de plot, que llamamos $lx$ (lista de abcisas).\n",
    "lx = np.linspace(-4,4,5)\n",
    "# Lo comprobamos:\n",
    "lx"
   ]
  },
  {
   "cell_type": "code",
   "execution_count": 6,
   "metadata": {},
   "outputs": [
    {
     "data": {
      "text/plain": [
       "array([16.,  4.,  0.,  4., 16.])"
      ]
     },
     "execution_count": 6,
     "metadata": {},
     "output_type": "execute_result"
    }
   ],
   "source": [
    "# El segundo argumento serán los correspondientes valores de la función, es decir, los cuadrados de los anteriores:\n",
    "lx**2"
   ]
  },
  {
   "cell_type": "code",
   "execution_count": 15,
   "metadata": {},
   "outputs": [
    {
     "data": {
      "image/png": "[encoded data removed]",
      "text/plain": [
       "<Figure size 432x288 with 1 Axes>"
      ]
     },
     "metadata": {
      "needs_background": "light"
     },
     "output_type": "display_data"
    }
   ],
   "source": [
    "plt.plot(lx,lx**2)\n",
    "plt.show()"
   ]
  },
  {
   "cell_type": "code",
   "execution_count": 10,
   "metadata": {},
   "outputs": [
    {
     "data": {
      "image/png": "[encoded data removed]",
      "text/plain": [
       "<Figure size 432x288 with 1 Axes>"
      ]
     },
     "metadata": {
      "needs_background": "light"
     },
     "output_type": "display_data"
    }
   ],
   "source": [
    "#Si aumentamos a 20 el número de valores a representar la línea poligonal tiene la apariencia de la parábola $x^2$\n",
    "lx=np.linspace(-4,4,20)\n",
    "plt.plot(lx,lx**2)\n",
    "plt.show()"
   ]
  },
  {
   "cell_type": "code",
   "execution_count": 11,
   "metadata": {},
   "outputs": [
    {
     "data": {
      "image/png": "[encoded data removed]",
      "text/plain": [
       "<Figure size 432x288 with 1 Axes>"
      ]
     },
     "metadata": {
      "needs_background": "light"
     },
     "output_type": "display_data"
    }
   ],
   "source": [
    "#Finalmente, si solo le damos el segundo argumento se representa los valores de la función x**2 sin especificar las abcisas\n",
    "plt.plot(lx**2)\n",
    "plt.show()"
   ]
  },
  {
   "cell_type": "markdown",
   "metadata": {},
   "source": [
    "## Aproximación lineal de una función $f(x)$ cerca del punto $a$\n",
    "La linealización de $f(x)$ en $x=a$ aproxima una función mediante la recta tangente en las proximidades de un punto $x=a$:\n",
    "\n",
    "$L(x)= f(a)+f'(a) (x-a)$\n",
    "\n",
    "Veamos como aproximar el valor de la exponencial $2^{1.1}$ tomando $f(x)=2^x$ y $a=1$\n",
    "\n",
    "$L(x)=f(1)+f'(1)(x-1)$ \n",
    "\n",
    "Y la función exponencial $f(x)=2^x$:\n",
    "\n",
    "$L(x) = 2^1 + 2^1  ln2 (x-1)$ "
   ]
  },
  {
   "cell_type": "code",
   "execution_count": 12,
   "metadata": {},
   "outputs": [
    {
     "data": {
      "image/png": "[encoded data removed]",
      "text/latex": [
       "$\\displaystyle 2 \\left(x - 1\\right) \\log{\\left(2 \\right)} + 2$"
      ],
      "text/plain": [
       "2⋅(x - 1)⋅log(2) + 2"
      ]
     },
     "execution_count": 12,
     "metadata": {},
     "output_type": "execute_result"
    }
   ],
   "source": [
    "# Llamamos c0 y c1 a los coeficientes de L(x) y los evaluamos\n",
    "f = 2**x\n",
    "c0 = f.subs(x, 1)\n",
    "c1 = f.diff(x).subs(x, 1)\n",
    "# la linealización será:\n",
    "L=c0+c1*(x-1)\n",
    "L"
   ]
  },
  {
   "cell_type": "code",
   "execution_count": 13,
   "metadata": {},
   "outputs": [
    {
     "data": {
      "image/png": "[encoded data removed]",
      "text/latex": [
       "$\\displaystyle 1.386294361 x + 0.6137056389$"
      ],
      "text/plain": [
       "1.386294361⋅x + 0.6137056389"
      ]
     },
     "execution_count": 13,
     "metadata": {},
     "output_type": "execute_result"
    }
   ],
   "source": [
    "# Es decir\n",
    "L=c0.evalf(10)+c1.evalf(10)*(x-1)\n",
    "L"
   ]
  },
  {
   "cell_type": "code",
   "execution_count": 14,
   "metadata": {},
   "outputs": [
    {
     "data": {
      "image/png": "[encoded data removed]",
      "text/plain": [
       "<Figure size 432x288 with 1 Axes>"
      ]
     },
     "metadata": {
      "needs_background": "light"
     },
     "output_type": "display_data"
    }
   ],
   "source": [
    "# Representamos la funcion y su linealización en el punto a=1\n",
    "# Para ello damos 40 valores equidistantes a la x, en el intervalo [-1, 3]\n",
    "l=np.linspace(-1, 3, 40)\n",
    "lx=(c0+c1*(l-1))\n",
    "lf=2**l\n",
    "\n",
    "# Y dibujamos la función y su aproximación lineal en x=1\n",
    "plt.plot(l, lf, label='$2^x$')\n",
    "plt.plot(l, lx, label='$L(x)$')\n",
    "plt.legend()\n",
    "plt.show()"
   ]
  },
  {
   "cell_type": "code",
   "execution_count": 15,
   "metadata": {},
   "outputs": [
    {
     "data": {
      "image/png": "[encoded data removed]",
      "text/latex": [
       "$\\displaystyle 2.138629436$"
      ],
      "text/plain": [
       "2.138629436"
      ]
     },
     "execution_count": 15,
     "metadata": {},
     "output_type": "execute_result"
    }
   ],
   "source": [
    "# Obtenemos el valor aproximado de f(1.1) sustituyendo 1.1 en L(x)\n",
    "L.subs(x,1.1).evalf(10)"
   ]
  },
  {
   "cell_type": "code",
   "execution_count": 16,
   "metadata": {},
   "outputs": [
    {
     "data": {
      "image/png": "[encoded data removed]",
      "text/latex": [
       "$\\displaystyle 2.14354692507259$"
      ],
      "text/plain": [
       "2.14354692507259"
      ]
     },
     "execution_count": 16,
     "metadata": {},
     "output_type": "execute_result"
    }
   ],
   "source": [
    "# El valor exacto de $f(1.1)$ es\n",
    "f.subs(x,1.1)"
   ]
  },
  {
   "cell_type": "code",
   "execution_count": 17,
   "metadata": {},
   "outputs": [
    {
     "data": {
      "image/png": "[encoded data removed]",
      "text/latex": [
       "$\\displaystyle 0.00491748895801614$"
      ],
      "text/plain": [
       "0.00491748895801614"
      ]
     },
     "execution_count": 17,
     "metadata": {},
     "output_type": "execute_result"
    }
   ],
   "source": [
    "# Y el error de esta aproximación\n",
    "f.subs(x,1.1) - L.subs(x, 1.1).evalf(10)"
   ]
  },
  {
   "cell_type": "markdown",
   "metadata": {},
   "source": [
    "## Función que calcula el Polinomio de Taylor\n",
    "\n",
    "El polinomio de Taylor de grado $n$ de la función $f(x)$ en el punto $a$ es:\n",
    "\n",
    "$T_n(x)=f(a)+ \\frac{f'(a)}{1!}(x-a)+\\frac{f\"(a)}{2!}(x-a)^2+ \\cdots + \\frac{f^{(n)}(a)}{n!}(x-a)^n$\n",
    "\n",
    "Es posible programar una función que tenga como parámetros $f$, $x$, $n$ y $a$ y que retorne $T_n(x)$"
   ]
  },
  {
   "cell_type": "code",
   "execution_count": 20,
   "metadata": {},
   "outputs": [],
   "source": [
    "def getTaylorPolinom(f, x, n, a, numDecimal=4):\n",
    "    T = f.subs(x, a).evalf(numDecimal)  # primer termino f(a)\n",
    "    for k in range(n):\n",
    "        T = T + f.diff(x, k+1).subs(x, a).evalf(numDecimal) * (x-a)**(k+1) / sp.factorial(k+1)\n",
    "    return T"
   ]
  },
  {
   "cell_type": "markdown",
   "metadata": {},
   "source": [
    "## Aproximación lineal de una función $f(x)$ en $x=a$\n",
    "La linealización de $f(x)$ en $x=a$ aproxima una función mediante la recta tangente en las proximidades de un punto $x=a$:\n",
    "\n",
    "$L(x)= f(a)+f'(a) (x-a)$\n",
    "\n",
    "Veamos como aproximar el valor de la exponencial $2^{1.1}$ tomando $f(x)=2^x$ y $a=1$\n",
    "\n",
    "$L(x)=f(1)+f'(1)(x-1)$ \n",
    "\n",
    "Y la función exponencial $f(x)=2^x$:\n",
    "\n",
    "$L(x) = 2^1 + 2^1  ln2 (x-1)$ "
   ]
  },
  {
   "cell_type": "code",
   "execution_count": 21,
   "metadata": {},
   "outputs": [
    {
     "data": {
      "image/png": "[encoded data removed]",
      "text/latex": [
       "$\\displaystyle 1.386 x + 0.6137$"
      ],
      "text/plain": [
       "1.386⋅x + 0.6137"
      ]
     },
     "execution_count": 21,
     "metadata": {},
     "output_type": "execute_result"
    }
   ],
   "source": [
    "# \n",
    "f = 2**x\n",
    "L = getTaylorPolinom(f, x, n=1, a=1)\n",
    "L"
   ]
  },
  {
   "cell_type": "code",
   "execution_count": 22,
   "metadata": {},
   "outputs": [
    {
     "data": {
      "image/png": "[encoded data removed]",
      "text/plain": [
       "<Figure size 432x288 with 1 Axes>"
      ]
     },
     "metadata": {
      "needs_background": "light"
     },
     "output_type": "display_data"
    }
   ],
   "source": [
    "# Representamos la funcion y su linealización en el punto a=1\n",
    "# Para ello damos 40 valores equidistantes a la x, en el intervalo [-1, 3]\n",
    "lstX=np.linspace(-1, 3, 40)\n",
    "lstY = [L.subs(x, t) for t in lstX]\n",
    "lstY_f = [f.subs(x, t) for t in lstX]\n",
    "\n",
    "# Y dibujamos la función y su aproximación lineal en x=1\n",
    "plt.plot(lstX, lstY_f, label='$2^x$')\n",
    "plt.plot(lstX, lstY, label='$L(x)$')\n",
    "plt.legend()\n",
    "plt.show()"
   ]
  },
  {
   "cell_type": "code",
   "execution_count": 21,
   "metadata": {},
   "outputs": [
    {
     "data": {
      "image/png": "[encoded data removed]",
      "text/latex": [
       "$\\displaystyle 2.13862915039063$"
      ],
      "text/plain": [
       "2.13862915039063"
      ]
     },
     "execution_count": 21,
     "metadata": {},
     "output_type": "execute_result"
    }
   ],
   "source": [
    "##Obtenemos el valor aproximado de f(1.1) sustituyendo 1.1 en L(x)\n",
    "L.subs(x,1.1)"
   ]
  },
  {
   "cell_type": "code",
   "execution_count": 22,
   "metadata": {},
   "outputs": [
    {
     "data": {
      "image/png": "[encoded data removed]",
      "text/latex": [
       "$\\displaystyle 2.14354692507259$"
      ],
      "text/plain": [
       "2.14354692507259"
      ]
     },
     "execution_count": 22,
     "metadata": {},
     "output_type": "execute_result"
    }
   ],
   "source": [
    "## El valor exacto es de $f(1.1)$\n",
    "f.subs(x,1.1)"
   ]
  },
  {
   "cell_type": "code",
   "execution_count": 23,
   "metadata": {},
   "outputs": [
    {
     "data": {
      "image/png": "[encoded data removed]",
      "text/latex": [
       "$\\displaystyle 0.00491777468196108$"
      ],
      "text/plain": [
       "0.00491777468196108"
      ]
     },
     "execution_count": 23,
     "metadata": {},
     "output_type": "execute_result"
    }
   ],
   "source": [
    "# Y el error de esta aproximación es\n",
    "f.subs(x,1.1) - L.subs(x, 1.1)"
   ]
  },
  {
   "cell_type": "markdown",
   "metadata": {},
   "source": [
    "## Aproximar la función $f(x)=2^x$ cerca de $x=1$ por el polinomio de Taylor"
   ]
  },
  {
   "cell_type": "markdown",
   "metadata": {},
   "source": [
    "La formula de Taylor permite una aproximación mejor del valor de una función en las proximidades de un punto $x=1$:\n",
    "\n",
    "$f(x)=f(1)+ \\frac{f'(1)}{1!}(x-1)+\\frac{f\"(1)}{2!}(x-1)^2+ \\frac{f'''(1)}{3!}(x-1)^3+\\cdots$"
   ]
  },
  {
   "cell_type": "code",
   "execution_count": 24,
   "metadata": {},
   "outputs": [
    {
     "data": {
      "image/png": "[encoded data removed]",
      "text/plain": [
       "<Figure size 576x360 with 1 Axes>"
      ]
     },
     "metadata": {
      "needs_background": "light"
     },
     "output_type": "display_data"
    },
    {
     "data": {
      "image/png": "[encoded data removed]",
      "text/latex": [
       "$\\displaystyle 1.386 x + 0.01924 \\left(x - 1\\right)^{4} + 0.111 \\left(x - 1\\right)^{3} + 0.4805 \\left(x - 1\\right)^{2} + 0.6137$"
      ],
      "text/plain": [
       "                         4                3                 2         \n",
       "1.386⋅x + 0.01924⋅(x - 1)  + 0.111⋅(x - 1)  + 0.4805⋅(x - 1)  + 0.6137"
      ]
     },
     "execution_count": 24,
     "metadata": {},
     "output_type": "execute_result"
    }
   ],
   "source": [
    "# Y los polinomios de grado 1, 2, 3 y 4. Observar que T1=L:\n",
    "Tn = [getTaylorPolinom(f, x, n=k+1, a=1) for k in range(4)]\n",
    "\n",
    "lstX=np.linspace(-1, 3, 40)\n",
    "lstY = [f.subs(x, t) for t in lstX]\n",
    "\n",
    "# Dar tamaño a la figura\n",
    "plt.figure(figsize=(8,5))\n",
    "\n",
    "plt.plot(lstX, lstY, label='$2^x$')\n",
    "\n",
    "for k in range(4):\n",
    "    lstY = [Tn[k].subs(x, t) for t in lstX]\n",
    "    plt.plot(lstX, lstY, label='$T_' + str(k+1) + '(x)$')\n",
    "\n",
    "plt.legend()\n",
    "plt.show()\n",
    "\n",
    "# Representamos el polinomio de grado 4\n",
    "Tn[3]"
   ]
  },
  {
   "cell_type": "code",
   "execution_count": 25,
   "metadata": {},
   "outputs": [
    {
     "name": "stdout",
     "output_type": "stream",
     "text": [
      "Orden= 0  Valor real= 2.14354692507259  Aproximado= 2.13862915039063  Error= 0.00491777468196108\n",
      "Orden= 1  Valor real= 2.14354692507259  Aproximado= 2.14343368530273  Error= 0.000113239769851781\n",
      "Orden= 2  Valor real= 2.14354692507259  Aproximado= 2.14354469299316  Error= 2.23207942218195e-6\n",
      "Orden= 3  Valor real= 2.14354692507259  Aproximado= 2.14354661660194  Error= 3.08470642362835e-7\n"
     ]
    }
   ],
   "source": [
    "# En la variable real guardamos el valor de la función f(x) en x=16.1\n",
    "real = f.subs(x,1.1)\n",
    "\n",
    "for k in range(4):\n",
    "    print(\"Orden=\", k, \" Valor real=\", real, \" Aproximado=\", Tn[k].subs(x,1.1), \" Error=\", real - Tn[k].subs(x,1.1))"
   ]
  },
  {
   "cell_type": "markdown",
   "metadata": {},
   "source": [
    "\n",
    "\n"
   ]
  },
  {
   "cell_type": "markdown",
   "metadata": {},
   "source": [
    "# Ejercicio 1 para el alumno\n",
    "\n",
    "\n",
    "Obtener la aproximación lineal a la función $f(x)=\\sqrt{x}-\\sqrt[4]{x}$ en $x=16$ \n",
    "\n",
    "Hacer una representación conjunta de  𝑓(𝑥)  y su aproximación lineal"
   ]
  },
  {
   "cell_type": "markdown",
   "metadata": {},
   "source": [
    "La aproximación lineal en $x_0$ es $y=f(x_0)+f^\\prime(x_0)\\cdot(x-x_0) $"
   ]
  },
  {
   "cell_type": "code",
   "execution_count": 29,
   "metadata": {},
   "outputs": [],
   "source": [
    "#Guardar en una variable Recta, la recta tangente a f(x) en x = 16\n",
    "#Imprimir Recta"
   ]
  },
  {
   "cell_type": "markdown",
   "metadata": {},
   "source": [
    "Hacemos la representación gráfica de  𝑓(𝑥)  y su tangente en  𝑥=16 \n",
    "\n",
    "Para ello representamos ambas gráficas entre 1 y 30"
   ]
  },
  {
   "cell_type": "code",
   "execution_count": null,
   "metadata": {},
   "outputs": [],
   "source": [
    "#Guardar en l una lista de 40 puntos entre 1 y 30\n",
    "\n",
    "#Hacer plot a f(x)\n",
    "\n",
    "#Hacer plot a Recta"
   ]
  },
  {
   "cell_type": "markdown",
   "metadata": {},
   "source": [
    "# Ejercicio 2 para el alumno\n",
    "\n",
    "\n",
    "Obtener la aproximación por un Polinomio de Taylor de grado 4 de la función $f(x)=\\sqrt{x}-\\sqrt[4]{x}$ en $x=16$ \n",
    "\n",
    "Hacer una representación conjunta de  𝑓(𝑥)  y su aproximación\n",
    "\n",
    "Dar el valor del polinomio de grado 4"
   ]
  },
  {
   "cell_type": "code",
   "execution_count": null,
   "metadata": {},
   "outputs": [],
   "source": []
  },
  {
   "cell_type": "markdown",
   "metadata": {},
   "source": [
    "# Problema de optimización en f(x)"
   ]
  },
  {
   "cell_type": "markdown",
   "metadata": {},
   "source": [
    "__Hallar el punto de la recta $y=-2x+3$ más cercano al origen__\n",
    "\n",
    "La función a optimizar es $D = x^2+y^2$ con la condición $y=-2x+3$"
   ]
  },
  {
   "cell_type": "code",
   "execution_count": 26,
   "metadata": {},
   "outputs": [
    {
     "data": {
      "image/png": "[encoded data removed]",
      "text/latex": [
       "$\\displaystyle x^{2} + y^{2}$"
      ],
      "text/plain": [
       " 2    2\n",
       "x  + y "
      ]
     },
     "execution_count": 26,
     "metadata": {},
     "output_type": "execute_result"
    }
   ],
   "source": [
    "x = sp.symbols('x')\n",
    "y = sp.symbols('y')\n",
    "D = x**2+y**2\n",
    "D"
   ]
  },
  {
   "cell_type": "code",
   "execution_count": 27,
   "metadata": {},
   "outputs": [
    {
     "data": {
      "image/png": "[encoded data removed]",
      "text/latex": [
       "$\\displaystyle \\left[ 3 - 2 x\\right]$"
      ],
      "text/plain": [
       "[3 - 2⋅x]"
      ]
     },
     "execution_count": 27,
     "metadata": {},
     "output_type": "execute_result"
    }
   ],
   "source": [
    "condicion = y+2*x-3\n",
    "despeja_y = solve(condicion, y)\n",
    "despeja_y"
   ]
  },
  {
   "cell_type": "markdown",
   "metadata": {},
   "source": [
    "### La y despejada en la condición se introduce en la función objetivo para obtener una función de 1 variable"
   ]
  },
  {
   "cell_type": "code",
   "execution_count": 28,
   "metadata": {},
   "outputs": [
    {
     "data": {
      "image/png": "[encoded data removed]",
      "text/latex": [
       "$\\displaystyle x^{2} + \\left(3 - 2 x\\right)^{2}$"
      ],
      "text/plain": [
       " 2            2\n",
       "x  + (3 - 2⋅x) "
      ]
     },
     "execution_count": 28,
     "metadata": {},
     "output_type": "execute_result"
    }
   ],
   "source": [
    "D_x = D.subs(y , despeja_y[0])\n",
    "D_x"
   ]
  },
  {
   "cell_type": "markdown",
   "metadata": {},
   "source": [
    "### Que se optimiza derivando e igualando a cero"
   ]
  },
  {
   "cell_type": "code",
   "execution_count": 29,
   "metadata": {},
   "outputs": [
    {
     "data": {
      "image/png": "[encoded data removed]",
      "text/latex": [
       "$\\displaystyle \\left[ \\frac{6}{5}\\right]$"
      ],
      "text/plain": [
       "[6/5]"
      ]
     },
     "execution_count": 29,
     "metadata": {},
     "output_type": "execute_result"
    }
   ],
   "source": [
    "derD_x = D_x.diff(x)\n",
    "sol_x = solve(derD_x, x)\n",
    "sol_x"
   ]
  },
  {
   "cell_type": "markdown",
   "metadata": {},
   "source": [
    "### El valor y se obtiene despejando el valor obtenido para x en la condición"
   ]
  },
  {
   "cell_type": "code",
   "execution_count": 30,
   "metadata": {},
   "outputs": [
    {
     "data": {
      "image/png": "[encoded data removed]",
      "text/latex": [
       "$\\displaystyle \\frac{3}{5}$"
      ],
      "text/plain": [
       "3/5"
      ]
     },
     "execution_count": 30,
     "metadata": {},
     "output_type": "execute_result"
    }
   ],
   "source": [
    "despeja_y[0].subs(x, sol_x[0])"
   ]
  },
  {
   "cell_type": "code",
   "execution_count": null,
   "metadata": {},
   "outputs": [],
   "source": []
  }
 ],
 "metadata": {
  "anaconda-cloud": {},
  "kernelspec": {
   "display_name": "Python 3",
   "language": "python",
   "name": "python3"
  },
  "language_info": {
   "codemirror_mode": {
    "name": "ipython",
    "version": 3
   },
   "file_extension": ".py",
   "mimetype": "text/x-python",
   "name": "python",
   "nbconvert_exporter": "python",
   "pygments_lexer": "ipython3",
   "version": "3.8.3"
  }
 },
 "nbformat": 4,
 "nbformat_minor": 2
}
