{
 "cells": [
  {
   "cell_type": "markdown",
   "metadata": {},
   "source": [
    "# Práctica 2: Integración\n",
    "# Ejercicios\n",
    "## del Alumno..."
   ]
  },
  {
   "cell_type": "markdown",
   "metadata": {},
   "source": [
    "   ## Tabla de comandos\n",
    "\n",
    "|**NOMBRE**|**DESCRIPCIÓN**|**TIPO**|**SINTAXIS**|**EJEMPLO**|\n",
    "|:---:|:---:|:---:|:---:|:---:|\n",
    "|[def](https://www.tutorialspoint.com/python/python_functions.htm)|Define una función de usuario|Declaración|def nombre (parametros):|def riemann(f, a, b, N):|\n",
    "|[return](https://www.python-course.eu/python3_functions.php)|Retorna el valor final de una función|Declaración|return salida, salida2|return resultado, error|\n",
    "|[exp](http://docs.sympy.org/latest/modules/functions/elementary.html?highlight=exp#sympy.functions.elementary.exponential.exp)|Devuelve la función exponencial de x|Función|exp(x)|np.exp(3)|\n",
    "|[integrate](http://docs.sympy.org/latest/modules/core.html?highlight=integrate#sympy.core.expr.Expr.integrate)|Calcula una integral con el paquete simbólico|Función|integrate(args, kwargs)|sp.integrate(x,(x, 0, 1))|\n",
    "|[quad](https://docs.scipy.org/doc/scipy/reference/generated/scipy.integrate.quad.html)|Devuelve el valor numérico de una integral|Función|quad(func, a, b) |scint.quad(func, 0, 1)|"
   ]
  },
  {
   "cell_type": "markdown",
   "metadata": {},
   "source": [
    "### Importanción de librerías\n",
    "Cada vez que empezamos una sesión de Jupiter tenemos que importar todos todos los módulos que necesitemos y escribir algunas instrucciones, en nuestra práctica :\n",
    "    \n",
    "    scipy: Módulo de herrqmientas matemáticas: cálculo numérico, optimización, álgebra lineal, integración, etc\n",
    "    \n",
    "    scipy.integrate: Submódulo de scipy para la integración numérica\n",
    "    \n",
    "    matplotlib.pyplot: Módulo para hacer figuras con géficas de funciones\n",
    "\n",
    "    init_printing(): Permite visualizar las formulas en lenguaje matemático con tipografía de libro.\n",
    "    \n",
    "    numpy: Módulo para manejar vectores y matrices de forma eficiente \n",
    "    \n",
    "Además ejecutaremos todas las celdas que tengamos ya escritas con la opción Run All del menú Cell."
   ]
  },
  {
   "cell_type": "code",
   "execution_count": 2,
   "metadata": {},
   "outputs": [],
   "source": [
    "# Módulo para la  integración numérica\n",
    "import scipy.integrate as scint\n",
    "\n",
    "# Módulo para hacer gráficos\n",
    "import matplotlib.pyplot as plt\n",
    "\n",
    "# Módulo para cálculo simbólico\n",
    "import sympy as sp\n",
    "\n",
    "# Para visualizar las expresiones matemáticas con tipografía de libro\n",
    "sp.init_printing()\n",
    "\n",
    "# Para manejar vectores y marices de forma eficiente\n",
    "import numpy as np\n",
    "\n",
    "import warnings\n",
    "warnings.filterwarnings(\"ignore\", category=UserWarning)"
   ]
  },
  {
   "cell_type": "markdown",
   "metadata": {},
   "source": [
    "# Ejercicio 1. \n",
    "## Calcular con la función `integrate` de `simpy` el volumen de un tronco de cono de altura $h$ radio inferior $r$ y radio superior $R$ \n",
    "\n",
    "Para resolverlo, considerar que se está integrando en el eje $x$, que el radio inferior se encuentra en $x=0$ y el radio superio en $x=h$, luego el radio del tronco del cono viene dado por la recta que pasa por los punto $(0,r)$ y $(h, R)$ que tiene de pendiente $m=\\frac{R-r}{h}$"
   ]
  },
  {
   "cell_type": "code",
   "execution_count": 3,
   "metadata": {},
   "outputs": [],
   "source": [
    "x = sp.symbols('x')\n",
    "R = sp.symbols('R')\n",
    "r = sp.symbols('r')\n",
    "h = sp.symbols('h')"
   ]
  },
  {
   "cell_type": "markdown",
   "metadata": {},
   "source": [
    "\n",
    "\n",
    "   # Ejercicio 2. \n",
    "   ## Utilizando la prueba de la integral, indicar si la serie es o no convergente.\n",
    "   \n",
    "   $$\\displaystyle\\sum_{n=1}^{\\infty}\\left(\\frac{n-1}{n^4}\\right)$$\n",
    "\n"
   ]
  },
  {
   "cell_type": "code",
   "execution_count": null,
   "metadata": {},
   "outputs": [],
   "source": []
  },
  {
   "cell_type": "markdown",
   "metadata": {},
   "source": [
    "# Ejercicio 3. \n",
    "   ## Escribir una versión de la función riemann que aproxime la integral definida por el punto izquierdo del intervalo\n",
    "   \n",
    "\n",
    "Ejecutarla para aproximar la integral $\\int_{0}^{1}x^2dx$ \n",
    "   "
   ]
  },
  {
   "cell_type": "code",
   "execution_count": null,
   "metadata": {},
   "outputs": [],
   "source": []
  },
  {
   "cell_type": "code",
   "execution_count": null,
   "metadata": {},
   "outputs": [],
   "source": []
  }
 ],
 "metadata": {
  "anaconda-cloud": {},
  "kernelspec": {
   "display_name": "Python 3 (ipykernel)",
   "language": "python",
   "name": "python3"
  },
  "language_info": {
   "codemirror_mode": {
    "name": "ipython",
    "version": 3
   },
   "file_extension": ".py",
   "mimetype": "text/x-python",
   "name": "python",
   "nbconvert_exporter": "python",
   "pygments_lexer": "ipython3",
   "version": "3.9.7"
  }
 },
 "nbformat": 4,
 "nbformat_minor": 2
}
