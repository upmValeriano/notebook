{
 "cells": [
  {
   "cell_type": "markdown",
   "metadata": {},
   "source": [
    "# Práctica 1. Derivación de Funciones. Representación de Funciones. Aproximación Lineal. Aproximación por el Polinomio de Taylor\n",
    "## Objetivos\n",
    "1. Iniciarse en el entorno Jupiter\n",
    "2. Manejar los paquetes de cálculo simbólico sympy\n",
    "3. Derivar funciones de una variable utilizando el método diff() \n",
    "4. Obtener un valor de una función simbólica con el método subs \n",
    "5. Obtener la recta tangente a un punto de la función, como aproximación lineal \n",
    "6. Se aproxima una función con polinomios de Taylor de grado 2, 3 y 4.\n",
    "7. Se dibuja la función y sus aproximaciones.\n"
   ]
  },
  {
   "cell_type": "markdown",
   "metadata": {},
   "source": [
    "## Tabla de comandos\n",
    "\n",
    "|**NOMBRE**|**DESCRIPCIÓN**|**TIPO**|**SINTAXIS**|**EJEMPLO**|\n",
    "|:---:|:---:|:---:|:---:|:---:|\n",
    "|[Abs](http://docs.sympy.org/latest/modules/polys/internals.html?highlight=abs#sympy.polys.domains.domain.Domain.abs)|Devuelve el valor absoluto de un número|Función|Abs(a)|sp.Abs(-5)|\n",
    "|[.diff](http://docs.sympy.org/latest/tutorial/calculus.html)|Calcula derivadas|Método|f.diff(x1,x2,...)|cos(x).diff(x)| \n",
    "|[evalf](http://docs.sympy.org/latest/modules/core.html?highlight=evalf#module-sympy.core.evalf)|Devuelve el numérico decimal de una expresión|Función|evalf(n, **options)|sp.evalf(cos(sp.pi/3))|\n",
    "|[plot](http://docs.sympy.org/latest/modules/plotting.html?highlight=plot#module-sympy.plotting.plot)|Dibuja un gráfico 2D desde Sympy|Función|plot(expr1, expr2, ..., range, **kwargs)|plot(cos(x),sin(x),(x, -1, 1))|\n",
    "|[pi](http://docs.sympy.org/latest/modules/functions/elementary.html?highlight=sin#sin)|Devuelve la constante PI|Función|sp.pi|sp.pi|\n",
    "|[solve](https://docs.sympy.org/latest/modules/solvers/solvers.html#)|Resuelve la ecuación f que se considera igual a cero, respecto al simbolo o lista de simbolos indicado|Función|solve(f, symbols)|solve(2*x+1, x)|\n",
    "|[subs](http://docs.sympy.org/latest/modules/core.html?highlight=subs#sympy.core.basic.Basic.subs)|Calcula el valor de una función simbólica|Método|subs(*args, **kwargs)|sp.cos(x).subs(x, 0)|\n",
    "|[symbols](http://docs.sympy.org/latest/modules/core.html?highlight=symbols#sympy.core.symbol.symbols)|Calcula una secuencia de símbolos para la variables a utilizar en las funciones sympy|Función|symbols(names, **args)|x, y = sp.symbols('x,y')|"
   ]
  },
  {
   "cell_type": "markdown",
   "metadata": {},
   "source": [
    "Cada vez que empezamos una sesión de Jupiter tenemos que importar todos todos los módulos que necesitemos y escribir algunas instrucciones, en nuestra práctica :\n",
    "\n",
    "    sympy: Librería de cálculo simbólico que utilizaremos en este caso para el cálculo de derivadas\n",
    "\n",
    "    init_printing(): Nos permite visualizar las formulas en lenguaje matemático.\n",
    " \n",
    "    matplotlib inline: Nos permite visualizar la gráfica en el mismo cuaderno.\n",
    "    \n",
    "Además ejecutaremos todas las celdas que tengamos ya escritas con la opción Run All del menú Cell"
   ]
  },
  {
   "cell_type": "markdown",
   "metadata": {},
   "source": [
    "# Importación de librerías"
   ]
  },
  {
   "cell_type": "code",
   "execution_count": 1,
   "metadata": {},
   "outputs": [],
   "source": [
    "#Librería de cálculo Simbólico\n",
    "import sympy as sp\n",
    "#Para representar los dibujos en el cuaderno en lugar de una ventana emergente\n",
    "%matplotlib inline\n",
    "# Para evitar los mensajes de obsolescencia ('deprecated') de funciones internas a la librería Matplotlib \n",
    "import warnings\n",
    "warnings.filterwarnings(\"ignore\", category=UserWarning)\n",
    "from sympy.solvers import solve"
   ]
  },
  {
   "cell_type": "markdown",
   "metadata": {},
   "source": [
    "## Introducir el nº del DNI o NIE sin niguna letra\n"
   ]
  },
  {
   "cell_type": "code",
   "execution_count": 2,
   "metadata": {},
   "outputs": [],
   "source": [
    "IF_Number = 49152141"
   ]
  },
  {
   "cell_type": "markdown",
   "metadata": {},
   "source": [
    "__Y obtener la opción del examen__"
   ]
  },
  {
   "cell_type": "code",
   "execution_count": 3,
   "metadata": {},
   "outputs": [
    {
     "name": "stdout",
     "output_type": "stream",
     "text": [
      "LA OPCIÓN DEL EXAMEN ES :  A\n"
     ]
    }
   ],
   "source": [
    "txtOpcion=['A', 'B', 'C']\n",
    "if str(IF_Number).isnumeric() and IF_Number>0:\n",
    "    iOpcion = IF_Number % 3\n",
    "    print('LA OPCIÓN DEL EXAMEN ES : ', txtOpcion[iOpcion])\n",
    "else:\n",
    "    print('Introducir en la variable IF_Number un valor numérico mayor que cero de su DNI o NIE, por favor!')"
   ]
  },
  {
   "cell_type": "markdown",
   "metadata": {},
   "source": [
    "## Enunciado de la práctica\n",
    "\n",
    "__Dada la función:__\n",
    "\n",
    "- __Opción A__ : \n",
    "    $$f(x)=\\frac{x^3}{3}- \\frac{3x^2}{2} + 2x$$\n",
    "- __Opción B__ : \n",
    "    $$f(x)=\\frac{x^3}{3} + \\frac{x^2}{2}$$\n",
    "- __Opción C__ : \n",
    "    $$f(x)=\\frac{x^3}{3} - x$$\n",
    "\n",
    "Implementar lo siguientes apartados para la opción correspondiente a cada DNI o NIE:\n",
    "\n",
    "- Dibujar la función.\n",
    "- Calcular los extremos relativos resolviendo las raices de $f'(x)=0$\n",
    "- Identificar la naturaleza de los puntos críticos usando la $f\"(x)$\n",
    "- Obtener la ecuación de la recta tangente en $x=1.5$ dibujando la misma junto a la función"
   ]
  },
  {
   "cell_type": "markdown",
   "metadata": {},
   "source": [
    "__Definimos el símbolo x__"
   ]
  },
  {
   "cell_type": "code",
   "execution_count": 4,
   "metadata": {},
   "outputs": [],
   "source": [
    "x = sp.symbols('x')"
   ]
  },
  {
   "cell_type": "markdown",
   "metadata": {},
   "source": [
    "## Función que calcula el Polinomio de Taylor"
   ]
  },
  {
   "cell_type": "code",
   "execution_count": 5,
   "metadata": {},
   "outputs": [],
   "source": [
    "def getTaylorPolinom(f, x, n, a, numDecimal=4):\n",
    "    T = f.subs(x, a).evalf(numDecimal)  # primer termino f(a)\n",
    "    for k in range(n):\n",
    "        T = T + f.diff(x, k+1).subs(x, a).evalf(numDecimal) * (x-a)**(k+1) / sp.factorial(k+1)\n",
    "    return T"
   ]
  },
  {
   "cell_type": "markdown",
   "metadata": {},
   "source": [
    "## Definir la función\n",
    "\n",
    "__En una variable f se define la función indicada__"
   ]
  },
  {
   "cell_type": "code",
   "execution_count": 7,
   "metadata": {},
   "outputs": [
    {
     "data": {
      "text/latex": [
       "$\\displaystyle 2 x^{3}$"
      ],
      "text/plain": [
       "2*x**3"
      ]
     },
     "execution_count": 7,
     "metadata": {},
     "output_type": "execute_result"
    }
   ],
   "source": [
    "f=2*x**3\n",
    "f"
   ]
  },
  {
   "cell_type": "markdown",
   "metadata": {},
   "source": [
    "## Dibujar la función\n",
    "\n",
    "En el intervalo (-2, 4)"
   ]
  },
  {
   "cell_type": "code",
   "execution_count": null,
   "metadata": {},
   "outputs": [],
   "source": []
  },
  {
   "cell_type": "markdown",
   "metadata": {},
   "source": [
    "## Obtener los extremos relativos\n"
   ]
  },
  {
   "cell_type": "code",
   "execution_count": null,
   "metadata": {},
   "outputs": [],
   "source": []
  },
  {
   "cell_type": "code",
   "execution_count": null,
   "metadata": {},
   "outputs": [],
   "source": []
  },
  {
   "cell_type": "code",
   "execution_count": null,
   "metadata": {},
   "outputs": [],
   "source": []
  },
  {
   "cell_type": "code",
   "execution_count": null,
   "metadata": {},
   "outputs": [],
   "source": []
  },
  {
   "cell_type": "markdown",
   "metadata": {},
   "source": [
    "## Identificar la naturaleza de los extremos relativos"
   ]
  },
  {
   "cell_type": "code",
   "execution_count": null,
   "metadata": {},
   "outputs": [],
   "source": []
  },
  {
   "cell_type": "code",
   "execution_count": null,
   "metadata": {},
   "outputs": [],
   "source": []
  },
  {
   "cell_type": "code",
   "execution_count": null,
   "metadata": {},
   "outputs": [],
   "source": []
  },
  {
   "cell_type": "code",
   "execution_count": null,
   "metadata": {},
   "outputs": [],
   "source": []
  },
  {
   "cell_type": "markdown",
   "metadata": {},
   "source": [
    "## Aproximación Lineal\n",
    "Obtener la aproximación lineal a la función \n",
    "\n",
    "Hacer una representación conjunta de $f(x)$ y su aproximación lineal"
   ]
  },
  {
   "cell_type": "markdown",
   "metadata": {},
   "source": [
    "La aproximación lineal en $x_0$ es $y=f(x_0)+f^\\prime(x_0)\\cdot(x-x_0) $\n",
    "\n",
    "Hay 2 posibilidades:\n",
    "- Usando la función __getTaylorPolinom__ con el parámetro __n=1__\n",
    "- Usar __f.subs(x, a)__ para hallar $f(x_0)$ y __f.diff(x).subs(x, a)__ para hallar $f^\\prime(x_0)$ y componer la ecuación de la recta manualmente."
   ]
  },
  {
   "cell_type": "code",
   "execution_count": null,
   "metadata": {},
   "outputs": [],
   "source": []
  },
  {
   "cell_type": "markdown",
   "metadata": {},
   "source": [
    "Hacemos la representación gráfica de $f(x)$ y su tangente en $x=1.5$\n",
    "\n",
    "Para ello representamos ambas gráficas entre -1 y 3"
   ]
  },
  {
   "cell_type": "code",
   "execution_count": null,
   "metadata": {},
   "outputs": [],
   "source": []
  },
  {
   "cell_type": "code",
   "execution_count": null,
   "metadata": {},
   "outputs": [],
   "source": []
  }
 ],
 "metadata": {
  "kernelspec": {
   "display_name": "Python 3 (ipykernel)",
   "language": "python",
   "name": "python3"
  },
  "language_info": {
   "codemirror_mode": {
    "name": "ipython",
    "version": 3
   },
   "file_extension": ".py",
   "mimetype": "text/x-python",
   "name": "python",
   "nbconvert_exporter": "python",
   "pygments_lexer": "ipython3",
   "version": "3.9.7"
  }
 },
 "nbformat": 4,
 "nbformat_minor": 2
}
