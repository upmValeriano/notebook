{
 "cells": [
  {
   "cell_type": "markdown",
   "metadata": {},
   "source": [
    "# Práctica 2: Integración\n",
    "## Objetivos\n",
    "1. Manejar los paquetes de cálculo simbólico sympy y cálculo numérico scipy\n",
    "2. Integrar funciones de una variable utilizando las funciones $integrate$ de cálculo simbólico y $quad$ de cálculo numérico\n",
    "3. Obtener un valor de una función simbólica con el método subs() o un valor decimal con el método evalf() \n",
    "4. Implementar algorithmos de integración numérica de las sumas de Riemann por el método del Punto Medio"
   ]
  },
  {
   "cell_type": "markdown",
   "metadata": {},
   "source": [
    "## Tabla de comandos\n",
    "\n",
    "|**NOMBRE**|**DESCRIPCIÓN**|**TIPO**|**SINTAXIS**|**EJEMPLO**|\n",
    "|:---:|:---:|:---:|:---:|:---:|\n",
    "|[def](https://www.tutorialspoint.com/python/python_functions.htm)|Define una función de usuario|Declaración|def nombre (parametros):|def riemann(fun, a, b, N):|\n",
    "|[return](https://www.python-course.eu/python3_functions.php)|Retorna el valor final de una función|Declaración|return salida, salida2|return resultado, error|\n",
    "|[integrate](http://docs.sympy.org/latest/modules/core.html?highlight=integrate#sympy.core.expr.Expr.integrate)|Calcula una integral con el paquete simbólico|Función|integrate()|sp.integrate(x,(x, 0, 1))|\n",
    "|[quad](https://docs.scipy.org/doc/scipy/reference/generated/scipy.integrate.quad.html)|Devuelve el valor numérico de una integral (por 'cuadraturas')|Función|quad(func, a, b) |scint.quad(func, 0, 1)|"
   ]
  },
  {
   "cell_type": "markdown",
   "metadata": {},
   "source": [
    "### Importanción de librerías\n",
    "Cada vez que empezamos una sesión de Jupiter tenemos que importar todos todos los módulos que necesitemos y escribir algunas instrucciones, en nuestra práctica :\n",
    "\n",
    "    sympy: Módulo de cálculo simbólico que utilizaremos en este caso para el cálculo de derivadas\n",
    "    \n",
    "    scipy: Módulo de herrqmientas matemáticas: cálculo numérico, optimización, álgebra lineal, integración, etc\n",
    "    \n",
    "    scipy.integrate: Submódulo de scipy para la integración numérica\n",
    "\n",
    "    init_printing(): Permite visualizar las formulas en lenguaje matemático con tipografía de libro.\n",
    "    \n",
    "Además ejecutaremos todas las celdas que tengamos ya escritas con la opción Run All del menú Cell."
   ]
  },
  {
   "cell_type": "code",
   "execution_count": 6,
   "metadata": {},
   "outputs": [],
   "source": [
    "# Módulo para el cálculo simbólico\n",
    "import sympy as sp\n",
    "\n",
    "# Módulo de herramientas matemáticas\n",
    "import scipy as sci\n",
    "\n",
    "# Submódulo para integración numérica\n",
    "import scipy.integrate as scint\n",
    "\n",
    "# Comndo para las expresiones matemáticas tengan tipografía de libro\n",
    "sp.init_printing()\n",
    "\n",
    "# Módulo para hacer gráficos\n",
    "import matplotlib.pyplot as plt\n",
    "\n",
    "# Para manejar vectores y marices de forma eficiente\n",
    "import numpy as np\n",
    "\n",
    "import warnings\n",
    "warnings.filterwarnings(\"ignore\", category=UserWarning)\n",
    "from sympy.solvers import solve"
   ]
  },
  {
   "cell_type": "markdown",
   "metadata": {},
   "source": [
    "## Integramos funciones de una variable\n",
    "\n",
    "### Calculamos Integrales Indefinidas:\n",
    "#### Utilizando cálculo simbólico:\n",
    "Definimos el símbolo x"
   ]
  },
  {
   "cell_type": "code",
   "execution_count": 8,
   "metadata": {},
   "outputs": [],
   "source": [
    "x = sp.symbols('x')"
   ]
  },
  {
   "cell_type": "code",
   "execution_count": 9,
   "metadata": {},
   "outputs": [
    {
     "data": {
      "image/png": "[encoded data removed]",
      "text/latex": [
       "$\\displaystyle \\sin{\\left(x \\right)}$"
      ],
      "text/plain": [
       "sin(x)"
      ]
     },
     "execution_count": 9,
     "metadata": {},
     "output_type": "execute_result"
    }
   ],
   "source": [
    "# Utilizando el método .integrate de la función desde la librería sympy\n",
    "\n",
    "f = sp.cos(x)\n",
    "f.integrate()"
   ]
  },
  {
   "cell_type": "code",
   "execution_count": 10,
   "metadata": {},
   "outputs": [
    {
     "data": {
      "image/png": "[encoded data removed]",
      "text/latex": [
       "$\\displaystyle \\sin{\\left(x \\right)}$"
      ],
      "text/plain": [
       "sin(x)"
      ]
     },
     "execution_count": 10,
     "metadata": {},
     "output_type": "execute_result"
    }
   ],
   "source": [
    "# O empleamos la función integrate de sympy sobre f\n",
    "\n",
    "sp.integrate(f)"
   ]
  },
  {
   "cell_type": "markdown",
   "metadata": {},
   "source": [
    "### Calculamos Integrales Definidas:\n",
    "#### Utilizando cálculo simbólico:\n",
    "Calculamos la integral de f en el intervalo $[0, \\pi]$ utilizando la función $integrate()$ de la librería `sympy`"
   ]
  },
  {
   "cell_type": "code",
   "execution_count": 11,
   "metadata": {},
   "outputs": [
    {
     "data": {
      "image/png": "[encoded data removed]",
      "text/latex": [
       "$\\displaystyle 0$"
      ],
      "text/plain": [
       "0"
      ]
     },
     "execution_count": 11,
     "metadata": {},
     "output_type": "execute_result"
    }
   ],
   "source": [
    "sp.integrate(f,(x,0,sp.pi))"
   ]
  },
  {
   "cell_type": "code",
   "execution_count": 12,
   "metadata": {},
   "outputs": [
    {
     "data": {
      "image/png": "[encoded data removed]",
      "text/latex": [
       "$\\displaystyle \\sin{\\left(b \\right)}$"
      ],
      "text/plain": [
       "sin(b)"
      ]
     },
     "execution_count": 12,
     "metadata": {},
     "output_type": "execute_result"
    }
   ],
   "source": [
    "# Calculamos la integral de f en [0,b]\n",
    "\n",
    "b = sp.Symbol('b')\n",
    "sp.integrate(f,(x,0,b))"
   ]
  },
  {
   "cell_type": "code",
   "execution_count": 13,
   "metadata": {},
   "outputs": [
    {
     "data": {
      "image/png": "[encoded data removed]",
      "text/latex": [
       "$\\displaystyle \\sin{\\left(1 \\right)}$"
      ],
      "text/plain": [
       "sin(1)"
      ]
     },
     "execution_count": 13,
     "metadata": {},
     "output_type": "execute_result"
    }
   ],
   "source": [
    "# La misma integral en [0, 1]\n",
    "\n",
    "sp.integrate(f,(x,0,1))"
   ]
  },
  {
   "cell_type": "code",
   "execution_count": 14,
   "metadata": {},
   "outputs": [
    {
     "data": {
      "image/png": "[encoded data removed]",
      "text/latex": [
       "$\\displaystyle 0.84147$"
      ],
      "text/plain": [
       "0.84147"
      ]
     },
     "execution_count": 14,
     "metadata": {},
     "output_type": "execute_result"
    }
   ],
   "source": [
    "# Si queremos obtener el valor obtenido con cinco decimales\n",
    "\n",
    "sp.integrate(f,(x,0,1)).evalf(5)"
   ]
  },
  {
   "cell_type": "markdown",
   "metadata": {},
   "source": [
    "#### Utilizando cálculo numérico:"
   ]
  },
  {
   "cell_type": "code",
   "execution_count": 15,
   "metadata": {},
   "outputs": [],
   "source": [
    "# En primer lugar necesitamos definir el integrando con la siguiente sintaxis:\n",
    "\n",
    "def f(t):\n",
    "    return sp.cos(t)"
   ]
  },
  {
   "cell_type": "code",
   "execution_count": 16,
   "metadata": {},
   "outputs": [
    {
     "data": {
      "image/png": "[encoded data removed]",
      "text/latex": [
       "$\\displaystyle \\left( 0.841470984807897, \\  9.34220461887732 \\cdot 10^{-15}\\right)$"
      ],
      "text/plain": [
       "(0.8414709848078965, 9.34220461887732e-15)"
      ]
     },
     "execution_count": 16,
     "metadata": {},
     "output_type": "execute_result"
    }
   ],
   "source": [
    "# Utilizamos la función quad() de la librería scipy para calcular la integral\n",
    "# de f en el intervalo [0,1].Este comando devuelve dos valores, el resultado de \n",
    "# la integral y el error absoluto del método de integración. \n",
    "\n",
    "scint.quad(f, 0, 1)"
   ]
  },
  {
   "cell_type": "code",
   "execution_count": 17,
   "metadata": {},
   "outputs": [
    {
     "data": {
      "image/png": "[encoded data removed]",
      "text/latex": [
       "$\\displaystyle 0.841470984807897$"
      ],
      "text/plain": [
       "0.8414709848078965"
      ]
     },
     "execution_count": 17,
     "metadata": {},
     "output_type": "execute_result"
    }
   ],
   "source": [
    "# Para que muestre solo el valor aproximado de la integral(el primero de ambos)escribimos:\n",
    "\n",
    "scint.quad(f,0,1)[0]"
   ]
  },
  {
   "cell_type": "markdown",
   "metadata": {},
   "source": [
    "## Ejemplo de una integral para calcular un volumen\n",
    "\n",
    "Volumen de una pirámide de base cuadrada, con cuadrado inferior de lado __b__, cuadrado superior de lado __a__ y altura __h__.\n",
    "\n",
    "Si se define __x__ la variable que da la dimensión del lado de un cuadrado intermedio a una altura __y__, se tiene que \n",
    "\n",
    "$$x = a + \\frac{(b-a)}{h}y$$"
   ]
  },
  {
   "cell_type": "code",
   "execution_count": 18,
   "metadata": {},
   "outputs": [
    {
     "data": {
      "image/png": "[encoded data removed]",
      "text/latex": [
       "$\\displaystyle \\frac{h \\left(a^{2} + a b + b^{2}\\right)}{3}$"
      ],
      "text/plain": [
       "  ⎛ 2          2⎞\n",
       "h⋅⎝a  + a⋅b + b ⎠\n",
       "─────────────────\n",
       "        3        "
      ]
     },
     "execution_count": 18,
     "metadata": {},
     "output_type": "execute_result"
    }
   ],
   "source": [
    "y = sp.symbols('y')\n",
    "a = sp.symbols('a')\n",
    "b = sp.symbols('b')\n",
    "h = sp.symbols('h')\n",
    "f = (a + (b-a)*y/h)**2\n",
    "V=sp.integrate(f,(y,0,h))\n",
    "sp.simplify(V)"
   ]
  },
  {
   "cell_type": "markdown",
   "metadata": {},
   "source": [
    "## Calculo de una integral impropia\n",
    "\n",
    "Para incluir un intervalo infinito se utiliza __np.inf__, por ejemplo para resolver la integral impropia\n",
    "\n",
    "$$\\int\\limits_{1}^{\\infty}\\frac{1}{x^2}dx$$\n",
    "\n",
    "Se utiliza el siguiente comando:"
   ]
  },
  {
   "cell_type": "code",
   "execution_count": 19,
   "metadata": {},
   "outputs": [
    {
     "data": {
      "image/png": "[encoded data removed]",
      "text/latex": [
       "$\\displaystyle 1$"
      ],
      "text/plain": [
       "1"
      ]
     },
     "execution_count": 19,
     "metadata": {},
     "output_type": "execute_result"
    }
   ],
   "source": [
    "f = 1/(x**2)\n",
    "sp.integrate(f,(x,1, np.inf))"
   ]
  },
  {
   "cell_type": "markdown",
   "metadata": {},
   "source": [
    "## Código para aproximar una integral por las Sumas de Riemann con el método del Punto Medio\n",
    "Método numérico del Punto Medio de las Sumas de Riemann que calcula un valor aproximado de la integral de una función en un intervalo. Esa aroximación de la integral es la suma de las áreas de los rectangulos de base la amplitud $\\Delta x$ de los N subintervalos en que se parte el intervalo $[a, b]$  y altura el valor de la función en el punto medio de la base $(x_{i}+x_{i+1})/2$\n",
    "\n",
    "$I_N=\\sum_{i=1}^N f((x_{i}+x_{i+1})/2)\\Delta x$"
   ]
  },
  {
   "cell_type": "markdown",
   "metadata": {},
   "source": [
    "Queremos aproximar la integral $\\int_{0}^{1}x^2dx$ utilizando las Sumas de Riemann"
   ]
  },
  {
   "cell_type": "code",
   "execution_count": 20,
   "metadata": {},
   "outputs": [],
   "source": [
    "# Esta función calcula la suma de Riemann tomando N subintervalos y como punto muestral el punto medio \n",
    "# de cada subintervalo\n",
    "# Se introducen como parámetros la función f, la variable independiente, \n",
    "# los extremos del intervalo [a, b] donde se quiere integrar\n",
    "# y el número de partes N en que se divide el intervalo [a, b]\n",
    "\n",
    "def riemann(f, a, b, N):  \n",
    "    suma = 0\n",
    "    h = (b-a)/N\n",
    "    for i in range(N):\n",
    "        izq = a + i*h \n",
    "        der = izq + h\n",
    "        medio = (izq + der)/2\n",
    "        suma += f(medio)*h\n",
    "    return suma "
   ]
  },
  {
   "cell_type": "code",
   "execution_count": 21,
   "metadata": {},
   "outputs": [
    {
     "data": {
      "image/png": "[encoded data removed]",
      "text/latex": [
       "$\\displaystyle 0.3332$"
      ],
      "text/plain": [
       "0.3332"
      ]
     },
     "execution_count": 21,
     "metadata": {},
     "output_type": "execute_result"
    }
   ],
   "source": [
    "def f(t):\n",
    "    return t**2\n",
    "\n",
    "riemann(f, 0, 1, 25)"
   ]
  },
  {
   "cell_type": "markdown",
   "metadata": {},
   "source": [
    "### Comparamos el resultado obtenido con la integral por cálculo simbólico (Librería sympy)"
   ]
  },
  {
   "cell_type": "code",
   "execution_count": 22,
   "metadata": {},
   "outputs": [
    {
     "data": {
      "image/png": "[encoded data removed]",
      "text/latex": [
       "$\\displaystyle \\frac{1}{3}$"
      ],
      "text/plain": [
       "1/3"
      ]
     },
     "execution_count": 22,
     "metadata": {},
     "output_type": "execute_result"
    }
   ],
   "source": [
    "Int_Def=sp.integrate(x**2,(x, 0, 1))\n",
    "Int_Def"
   ]
  },
  {
   "cell_type": "code",
   "execution_count": null,
   "metadata": {},
   "outputs": [],
   "source": []
  }
 ],
 "metadata": {
  "anaconda-cloud": {},
  "kernelspec": {
   "display_name": "Python 3 (ipykernel)",
   "language": "python",
   "name": "python3"
  },
  "language_info": {
   "codemirror_mode": {
    "name": "ipython",
    "version": 3
   },
   "file_extension": ".py",
   "mimetype": "text/x-python",
   "name": "python",
   "nbconvert_exporter": "python",
   "pygments_lexer": "ipython3",
   "version": "3.9.7"
  }
 },
 "nbformat": 4,
 "nbformat_minor": 2
}
